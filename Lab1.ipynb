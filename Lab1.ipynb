{
 "cells": [
  {
   "cell_type": "markdown",
   "id": "10c9a3a2",
   "metadata": {},
   "source": [
    "**Değişken Tanımlama**"
   ]
  },
  {
   "cell_type": "code",
   "execution_count": null,
   "id": "f406395c",
   "metadata": {},
   "outputs": [],
   "source": [
    "x = 15\n",
    "y = 17\n",
    "isim = \"irem\"\n",
    "z = 18.5"
   ]
  },
  {
   "cell_type": "markdown",
   "id": "c4f3f9ad",
   "metadata": {},
   "source": [
    "**liste**"
   ]
  },
  {
   "cell_type": "code",
   "execution_count": 3,
   "id": "ecaa8c84",
   "metadata": {},
   "outputs": [
    {
     "data": {
      "text/plain": [
       "list"
      ]
     },
     "execution_count": 3,
     "metadata": {},
     "output_type": "execute_result"
    }
   ],
   "source": [
    "liste_int = [3,7,9,11,15,17]\n",
    "type(liste_int)"
   ]
  },
  {
   "cell_type": "code",
   "execution_count": 4,
   "id": "7424358e",
   "metadata": {},
   "outputs": [
    {
     "name": "stdout",
     "output_type": "stream",
     "text": [
      "15\n"
     ]
    }
   ],
   "source": [
    "value = liste_int[4]\n",
    "print(value)"
   ]
  },
  {
   "cell_type": "code",
   "execution_count": 5,
   "id": "5f080f7e",
   "metadata": {},
   "outputs": [
    {
     "data": {
      "text/plain": [
       "17"
      ]
     },
     "execution_count": 5,
     "metadata": {},
     "output_type": "execute_result"
    }
   ],
   "source": [
    "liste_int[-1]"
   ]
  },
  {
   "cell_type": "code",
   "execution_count": 6,
   "id": "d025caaf",
   "metadata": {},
   "outputs": [
    {
     "data": {
      "text/plain": [
       "[7, 9, 11]"
      ]
     },
     "execution_count": 6,
     "metadata": {},
     "output_type": "execute_result"
    }
   ],
   "source": [
    "liste_int[1:4]"
   ]
  },
  {
   "cell_type": "code",
   "execution_count": 7,
   "id": "3d918bab",
   "metadata": {},
   "outputs": [
    {
     "name": "stdout",
     "output_type": "stream",
     "text": [
      "[3, 7, 9, 11, 15, 17, 10]\n"
     ]
    }
   ],
   "source": [
    "liste_int.append(10)\n",
    "print(liste_int)"
   ]
  },
  {
   "cell_type": "code",
   "execution_count": 8,
   "id": "467b96cd",
   "metadata": {},
   "outputs": [
    {
     "name": "stdout",
     "output_type": "stream",
     "text": [
      "[3, 7, 11, 15, 17, 10]\n"
     ]
    }
   ],
   "source": [
    "liste_int.remove(9)\n",
    "print(liste_int)"
   ]
  },
  {
   "cell_type": "code",
   "execution_count": 9,
   "id": "2846708b",
   "metadata": {},
   "outputs": [
    {
     "name": "stdout",
     "output_type": "stream",
     "text": [
      "[3, 7, 10, 11, 15, 17]\n"
     ]
    }
   ],
   "source": [
    "liste_int.sort()\n",
    "print(liste_int)"
   ]
  },
  {
   "cell_type": "code",
   "execution_count": 10,
   "id": "8040329c",
   "metadata": {},
   "outputs": [
    {
     "name": "stdout",
     "output_type": "stream",
     "text": [
      "[17, 15, 11, 10, 7, 3]\n"
     ]
    }
   ],
   "source": [
    "liste_int.reverse()\n",
    "print(liste_int)"
   ]
  },
  {
   "cell_type": "markdown",
   "id": "b985e72a",
   "metadata": {},
   "source": [
    "**for döngüsü**"
   ]
  },
  {
   "cell_type": "code",
   "execution_count": 12,
   "id": "7054f37f",
   "metadata": {},
   "outputs": [
    {
     "data": {
      "text/plain": [
       "48"
      ]
     },
     "execution_count": 12,
     "metadata": {},
     "output_type": "execute_result"
    }
   ],
   "source": [
    "list = [2,6,4,9,11,16]\n",
    "sum(list)"
   ]
  },
  {
   "cell_type": "code",
   "execution_count": 13,
   "id": "35f84ae0",
   "metadata": {},
   "outputs": [
    {
     "data": {
      "text/plain": [
       "2"
      ]
     },
     "execution_count": 13,
     "metadata": {},
     "output_type": "execute_result"
    }
   ],
   "source": [
    "min(list)"
   ]
  },
  {
   "cell_type": "code",
   "execution_count": 14,
   "id": "b36865f2",
   "metadata": {},
   "outputs": [
    {
     "data": {
      "text/plain": [
       "16"
      ]
     },
     "execution_count": 14,
     "metadata": {},
     "output_type": "execute_result"
    }
   ],
   "source": [
    "max(list)"
   ]
  },
  {
   "cell_type": "code",
   "execution_count": 25,
   "id": "15dcca6a",
   "metadata": {},
   "outputs": [
    {
     "name": "stdout",
     "output_type": "stream",
     "text": [
      "16\n"
     ]
    }
   ],
   "source": [
    "max=1\n",
    "for each in list:\n",
    "    if(each>max):\n",
    "        max=each\n",
    "    else:    \n",
    "        continue    \n",
    "print(max)    "
   ]
  },
  {
   "cell_type": "markdown",
   "id": "4d312f6b",
   "metadata": {},
   "source": [
    "**while**"
   ]
  },
  {
   "cell_type": "code",
   "execution_count": 26,
   "id": "2fa6cd1e",
   "metadata": {},
   "outputs": [
    {
     "name": "stdout",
     "output_type": "stream",
     "text": [
      "3\n",
      "4\n",
      "5\n",
      "6\n"
     ]
    }
   ],
   "source": [
    "i=3\n",
    "while(i<7):\n",
    "    print(i)\n",
    "    i=i+1"
   ]
  },
  {
   "cell_type": "markdown",
   "id": "eba637d6",
   "metadata": {},
   "source": [
    "**fonksiyon**"
   ]
  },
  {
   "cell_type": "code",
   "execution_count": 30,
   "id": "b034bb30",
   "metadata": {},
   "outputs": [
    {
     "data": {
      "text/plain": [
       "50.24"
      ]
     },
     "execution_count": 30,
     "metadata": {},
     "output_type": "execute_result"
    }
   ],
   "source": [
    "def cember_alan(r,pi=3.14):\n",
    "    islem=pi*r*r\n",
    "    return islem\n",
    "cember_alan(4)  "
   ]
  },
  {
   "cell_type": "markdown",
   "id": "71590f16",
   "metadata": {},
   "source": [
    "**lambda**"
   ]
  },
  {
   "cell_type": "code",
   "execution_count": 33,
   "id": "71f88c9b",
   "metadata": {},
   "outputs": [
    {
     "data": {
      "text/plain": [
       "512"
      ]
     },
     "execution_count": 33,
     "metadata": {},
     "output_type": "execute_result"
    }
   ],
   "source": [
    "def hesapla(x):\n",
    "    output=x*x*x\n",
    "    return output\n",
    "sonuc = hesapla(2)\n",
    "sonuc2 = lambda x: x*x*x\n",
    "hesapla(sonuc2(2))"
   ]
  },
  {
   "cell_type": "markdown",
   "id": "398ec30c",
   "metadata": {},
   "source": [
    "**dictionary**"
   ]
  },
  {
   "cell_type": "code",
   "execution_count": 38,
   "id": "5a378637",
   "metadata": {},
   "outputs": [
    {
     "data": {
      "text/plain": [
       "23"
      ]
     },
     "execution_count": 38,
     "metadata": {},
     "output_type": "execute_result"
    }
   ],
   "source": [
    "dictionary = {\"irem\":23,\"nur\":28,\"burak\":32}\n",
    "dictionary[\"irem\"]"
   ]
  },
  {
   "cell_type": "code",
   "execution_count": 39,
   "id": "d6a7a44a",
   "metadata": {},
   "outputs": [
    {
     "data": {
      "text/plain": [
       "dict_keys(['irem', 'nur', 'burak'])"
      ]
     },
     "execution_count": 39,
     "metadata": {},
     "output_type": "execute_result"
    }
   ],
   "source": [
    "dictionary.keys()"
   ]
  },
  {
   "cell_type": "code",
   "execution_count": 40,
   "id": "cd82a5cc",
   "metadata": {},
   "outputs": [
    {
     "data": {
      "text/plain": [
       "dict_values([23, 28, 32])"
      ]
     },
     "execution_count": 40,
     "metadata": {},
     "output_type": "execute_result"
    }
   ],
   "source": [
    "dictionary.values()"
   ]
  },
  {
   "cell_type": "code",
   "execution_count": 43,
   "id": "3f12bf27",
   "metadata": {},
   "outputs": [
    {
     "name": "stdout",
     "output_type": "stream",
     "text": [
      "yes\n"
     ]
    }
   ],
   "source": [
    "keys = dictionary.keys()\n",
    "if \"nur\" in keys:\n",
    "    print(\"yes\")\n",
    "else:\n",
    "    print(\"no\")"
   ]
  },
  {
   "cell_type": "code",
   "execution_count": 44,
   "id": "a8f60231",
   "metadata": {},
   "outputs": [
    {
     "name": "stdout",
     "output_type": "stream",
     "text": [
      "no\n"
     ]
    }
   ],
   "source": [
    "keys = dictionary.keys()\n",
    "if \"deniz\" in keys:\n",
    "    print(\"yes\")\n",
    "else:\n",
    "    print(\"no\")"
   ]
  }
 ],
 "metadata": {
  "kernelspec": {
   "display_name": "Python 3 (ipykernel)",
   "language": "python",
   "name": "python3"
  },
  "language_info": {
   "codemirror_mode": {
    "name": "ipython",
    "version": 3
   },
   "file_extension": ".py",
   "mimetype": "text/x-python",
   "name": "python",
   "nbconvert_exporter": "python",
   "pygments_lexer": "ipython3",
   "version": "3.9.13"
  }
 },
 "nbformat": 4,
 "nbformat_minor": 5
}
